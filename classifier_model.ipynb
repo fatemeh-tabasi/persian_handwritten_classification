{
 "cells": [
  {
   "cell_type": "code",
   "execution_count": 1,
   "id": "962237d3",
   "metadata": {},
   "outputs": [
    {
     "name": "stdout",
     "output_type": "stream",
     "text": [
      "WARNING:tensorflow:From C:\\Users\\farassoo\\anaconda3\\Lib\\site-packages\\keras\\src\\losses.py:2976: The name tf.losses.sparse_softmax_cross_entropy is deprecated. Please use tf.compat.v1.losses.sparse_softmax_cross_entropy instead.\n",
      "\n"
     ]
    }
   ],
   "source": [
    "\n",
    "import cv2\n",
    "import tensorflow as tf\n",
    "import matplotlib.pyplot as plt\n",
    "import os , io\n",
    "import shutil\n",
    "import numpy as np\n",
    "import keras\n",
    "from keras.preprocessing.image import ImageDataGenerator\n",
    "import keras.utils as image\n",
    "from keras.preprocessing import image\n",
    "from keras import layers\n",
    "from keras import models"
   ]
  },
  {
   "cell_type": "code",
   "execution_count": 3,
   "id": "4a88e750",
   "metadata": {},
   "outputs": [
    {
     "name": "stdout",
     "output_type": "stream",
     "text": [
      "X shape: (13402, 50, 100, 3)\n",
      "y shape: (13402, 31)\n"
     ]
    }
   ],
   "source": [
    "# Set the path to the dataset directory\n",
    "dataset_path = 'table_cells'\n",
    "\n",
    "# Set the desired image size\n",
    "image_size = (100,50)\n",
    "\n",
    "# Initialize empty lists to store the images and their corresponding labels\n",
    "images = []\n",
    "labels = []\n",
    "\n",
    "# Loop through each class folder\n",
    "for class_folder in os.listdir(dataset_path):\n",
    "    # Construct the full path to the class folder\n",
    "    class_path = os.path.join(dataset_path, class_folder)\n",
    "    \n",
    "    # Check if the item is a directory (i.e., a class folder)\n",
    "    if os.path.isdir(class_path):\n",
    "        # Loop through each image file in the class folder\n",
    "        for filename in os.listdir(class_path):\n",
    "            # Construct the full path to the image file\n",
    "            image_path = os.path.join(class_path, filename)\n",
    "            \n",
    "            # Load the image using cv2.imread()\n",
    "            image1 = cv2.imread(image_path)\n",
    "            \n",
    "            # Resize the image to the desired size\n",
    "            image2 = cv2.resize(image1, image_size)\n",
    "            #image3 = np.reshape(image2, [-1,image_size])\n",
    "            image3 = image2.astype('float32')\n",
    "            image3 /= 255\n",
    "            # Append the image and its corresponding label to the lists\n",
    "            images.append(image3)\n",
    "            label = keras.utils.to_categorical(class_folder, num_classes=31)\n",
    "            #labels.append(numbers_to_strings(class_folder))\n",
    "            labels.append(label)\n",
    "\n",
    "# Convert the lists to numpy arrays\n",
    "X = np.array(images)\n",
    "y = np.array(labels)\n",
    "\n",
    "# Print the shapes of the arrays\n",
    "print(\"X shape:\", X.shape)\n",
    "print(\"y shape:\", y.shape)\n"
   ]
  },
  {
   "cell_type": "code",
   "execution_count": 8,
   "id": "66bde421",
   "metadata": {
    "scrolled": true
   },
   "outputs": [
    {
     "name": "stdout",
     "output_type": "stream",
     "text": [
      "[0. 0. 0. 0. 0. 0. 0. 0. 0. 0. 1. 0. 0. 0. 0. 0. 0. 0. 0. 0. 0. 0. 0. 0.\n",
      " 0. 0. 0. 0. 0. 0. 0.]\n"
     ]
    },
    {
     "data": {
      "image/png": "[encoded data removed]",
      "text/plain": [
       "<Figure size 640x480 with 1 Axes>"
      ]
     },
     "metadata": {},
     "output_type": "display_data"
    }
   ],
   "source": [
    "plt.imshow(images[955])\n",
    "print(labels[955])"
   ]
  },
  {
   "cell_type": "code",
   "execution_count": 9,
   "id": "bfaf902e",
   "metadata": {},
   "outputs": [],
   "source": [
    "train_size=0.9\n",
    "images, labels = np.array(images), np.array(labels)\n",
    "\n",
    "# 1. Get the total size of the dataset\n",
    "size = len(images)\n",
    "# 2. Make an indices array and shuffle it, if required\n",
    "indices = np.arange(size)\n",
    "np.random.shuffle(indices)\n",
    "# 3. Get the size of training samples\n",
    "train_samples = int(size * train_size)\n",
    "# 4. Split data into training and validation sets\n",
    "x_train, y_train = images[indices[:train_samples]], labels[indices[:train_samples]]\n",
    "x_valid, y_valid = images[indices[train_samples:]], labels[indices[train_samples:]]"
   ]
  },
  {
   "cell_type": "code",
   "execution_count": 10,
   "id": "258d380d",
   "metadata": {},
   "outputs": [],
   "source": [
    "def encode_single_sample(img,label):\n",
    "    \n",
    "    img = tf.transpose(img, perm=[1, 0, 2])\n",
    "    return img, label"
   ]
  },
  {
   "cell_type": "code",
   "execution_count": 11,
   "id": "f534a0aa",
   "metadata": {},
   "outputs": [],
   "source": [
    "batch_size = 32\n",
    "train_dataset = tf.data.Dataset.from_tensor_slices((x_train, y_train))\n",
    "train_dataset = (\n",
    "    train_dataset.map(\n",
    "        encode_single_sample, num_parallel_calls=tf.data.AUTOTUNE\n",
    "    )\n",
    "    .batch(batch_size)\n",
    "    .prefetch(buffer_size=tf.data.AUTOTUNE)\n",
    ")\n",
    "\n",
    "validation_dataset = tf.data.Dataset.from_tensor_slices((x_valid, y_valid))\n",
    "validation_dataset = (\n",
    "    validation_dataset.map(\n",
    "        encode_single_sample, num_parallel_calls=tf.data.AUTOTUNE\n",
    "    )\n",
    "    .batch(batch_size)\n",
    "    .prefetch(buffer_size=tf.data.AUTOTUNE)\n",
    ")\n"
   ]
  },
  {
   "cell_type": "code",
   "execution_count": 12,
   "id": "fe083a19",
   "metadata": {},
   "outputs": [
    {
     "name": "stdout",
     "output_type": "stream",
     "text": [
      "(32, 100, 50, 3)\n",
      "(32, 31)\n"
     ]
    }
   ],
   "source": [
    "a, b = next(iter(train_dataset))\n",
    "print(a.shape)\n",
    "print(b.shape)"
   ]
  },
  {
   "cell_type": "code",
   "execution_count": null,
   "id": "88e4626d",
   "metadata": {},
   "outputs": [],
   "source": []
  },
  {
   "cell_type": "code",
   "execution_count": null,
   "id": "ae2d4075",
   "metadata": {},
   "outputs": [],
   "source": []
  },
  {
   "cell_type": "code",
   "execution_count": null,
   "id": "28994011",
   "metadata": {},
   "outputs": [],
   "source": []
  },
  {
   "cell_type": "code",
   "execution_count": 13,
   "id": "080eaece",
   "metadata": {},
   "outputs": [
    {
     "name": "stdout",
     "output_type": "stream",
     "text": [
      "WARNING:tensorflow:From C:\\Users\\farassoo\\anaconda3\\Lib\\site-packages\\keras\\src\\backend.py:873: The name tf.get_default_graph is deprecated. Please use tf.compat.v1.get_default_graph instead.\n",
      "\n",
      "WARNING:tensorflow:From C:\\Users\\farassoo\\anaconda3\\Lib\\site-packages\\keras\\src\\layers\\pooling\\max_pooling2d.py:161: The name tf.nn.max_pool is deprecated. Please use tf.nn.max_pool2d instead.\n",
      "\n",
      "Model: \"sequential\"\n",
      "_________________________________________________________________\n",
      " Layer (type)                Output Shape              Param #   \n",
      "=================================================================\n",
      " conv2d (Conv2D)             (None, 98, 48, 32)        896       \n",
      "                                                                 \n",
      " max_pooling2d (MaxPooling2  (None, 49, 24, 32)        0         \n",
      " D)                                                              \n",
      "                                                                 \n",
      " conv2d_1 (Conv2D)           (None, 47, 22, 64)        18496     \n",
      "                                                                 \n",
      " max_pooling2d_1 (MaxPoolin  (None, 23, 11, 64)        0         \n",
      " g2D)                                                            \n",
      "                                                                 \n",
      " conv2d_2 (Conv2D)           (None, 21, 9, 128)        73856     \n",
      "                                                                 \n",
      " max_pooling2d_2 (MaxPoolin  (None, 10, 4, 128)        0         \n",
      " g2D)                                                            \n",
      "                                                                 \n",
      " conv2d_3 (Conv2D)           (None, 8, 2, 128)         147584    \n",
      "                                                                 \n",
      " max_pooling2d_3 (MaxPoolin  (None, 4, 1, 128)         0         \n",
      " g2D)                                                            \n",
      "                                                                 \n",
      " reshape (Reshape)           (None, 4, 1, 128)         0         \n",
      "                                                                 \n",
      " time_distributed (TimeDist  (None, 4, 1, 64)          49408     \n",
      " ributed)                                                        \n",
      "                                                                 \n",
      " time_distributed_1 (TimeDi  (None, 4, 64)             33024     \n",
      " stributed)                                                      \n",
      "                                                                 \n",
      " flatten (Flatten)           (None, 256)               0         \n",
      "                                                                 \n",
      " dropout (Dropout)           (None, 256)               0         \n",
      "                                                                 \n",
      " dense (Dense)               (None, 512)               131584    \n",
      "                                                                 \n",
      " dense_1 (Dense)             (None, 31)                15903     \n",
      "                                                                 \n",
      "=================================================================\n",
      "Total params: 470751 (1.80 MB)\n",
      "Trainable params: 470751 (1.80 MB)\n",
      "Non-trainable params: 0 (0.00 Byte)\n",
      "_________________________________________________________________\n",
      "WARNING:tensorflow:From C:\\Users\\farassoo\\anaconda3\\Lib\\site-packages\\keras\\src\\optimizers\\__init__.py:309: The name tf.train.Optimizer is deprecated. Please use tf.compat.v1.train.Optimizer instead.\n",
      "\n"
     ]
    }
   ],
   "source": [
    "from tensorflow.keras.layers import LSTM, TimeDistributed,Bidirectional\n",
    "from tensorflow.keras import models, layers\n",
    "\n",
    "model_2 = models.Sequential()\n",
    "model_2.add(layers.Conv2D(32, (3, 3), activation='relu', input_shape=(100, 50, 3)))\n",
    "model_2.add(layers.MaxPooling2D((2, 2)))\n",
    "model_2.add(layers.Conv2D(64, (3, 3), activation='relu'))\n",
    "model_2.add(layers.MaxPooling2D((2, 2)))\n",
    "model_2.add(layers.Conv2D(128, (3, 3), activation='relu'))\n",
    "model_2.add(layers.MaxPooling2D((2, 2)))\n",
    "model_2.add(layers.Conv2D(128, (3, 3), activation='relu'))\n",
    "model_2.add(layers.MaxPooling2D((2, 2)))\n",
    "\n",
    "# Calculate the new shape after the convolutional and pooling layers\n",
    "new_shape = (4, 1, 128)\n",
    "\n",
    "model_2.add(layers.Reshape(new_shape))\n",
    "\n",
    "# Add the first RNN layer\n",
    "model_2.add(TimeDistributed(LSTM(64, return_sequences=True)))\n",
    "\n",
    "# Add the second RNN layer\n",
    "model_2.add(TimeDistributed(LSTM(64)))\n",
    "\n",
    "model_2.add(layers.Flatten())\n",
    "model_2.add(layers.Dropout(0.5))\n",
    "model_2.add(layers.Dense(512, activation='relu'))\n",
    "model_2.add(layers.Dense(31, activation='softmax'))\n",
    "\n",
    "model_2.summary()\n",
    "model_2.compile(loss='categorical_crossentropy', optimizer='rmsprop', metrics=['acc'])\n"
   ]
  },
  {
   "cell_type": "code",
   "execution_count": null,
   "id": "b6867b7a",
   "metadata": {},
   "outputs": [],
   "source": []
  },
  {
   "cell_type": "code",
   "execution_count": 14,
   "id": "6233dd82",
   "metadata": {},
   "outputs": [
    {
     "name": "stdout",
     "output_type": "stream",
     "text": [
      "Epoch 1/50\n",
      "WARNING:tensorflow:From C:\\Users\\farassoo\\anaconda3\\Lib\\site-packages\\keras\\src\\utils\\tf_utils.py:492: The name tf.ragged.RaggedTensorValue is deprecated. Please use tf.compat.v1.ragged.RaggedTensorValue instead.\n",
      "\n",
      "WARNING:tensorflow:From C:\\Users\\farassoo\\anaconda3\\Lib\\site-packages\\keras\\src\\engine\\base_layer_utils.py:384: The name tf.executing_eagerly_outside_functions is deprecated. Please use tf.compat.v1.executing_eagerly_outside_functions instead.\n",
      "\n",
      "377/377 [==============================] - ETA: 0s - loss: 2.6053 - acc: 0.2288WARNING:tensorflow:Early stopping conditioned on metric `val_accuracy` which is not available. Available metrics are: loss,acc,val_loss,val_acc\n",
      "WARNING:tensorflow:Learning rate reduction is conditioned on metric `val_accuracy` which is not available. Available metrics are: loss,acc,val_loss,val_acc,lr\n",
      "377/377 [==============================] - 40s 77ms/step - loss: 2.6053 - acc: 0.2288 - val_loss: 1.9472 - val_acc: 0.3848 - lr: 0.0010\n",
      "Epoch 2/50\n",
      "377/377 [==============================] - ETA: 0s - loss: 1.6915 - acc: 0.4819WARNING:tensorflow:Early stopping conditioned on metric `val_accuracy` which is not available. Available metrics are: loss,acc,val_loss,val_acc\n",
      "WARNING:tensorflow:Learning rate reduction is conditioned on metric `val_accuracy` which is not available. Available metrics are: loss,acc,val_loss,val_acc,lr\n",
      "377/377 [==============================] - 31s 81ms/step - loss: 1.6915 - acc: 0.4819 - val_loss: 1.4461 - val_acc: 0.5638 - lr: 0.0010\n",
      "Epoch 3/50\n",
      "377/377 [==============================] - ETA: 0s - loss: 1.2944 - acc: 0.6170WARNING:tensorflow:Early stopping conditioned on metric `val_accuracy` which is not available. Available metrics are: loss,acc,val_loss,val_acc\n",
      "WARNING:tensorflow:Learning rate reduction is conditioned on metric `val_accuracy` which is not available. Available metrics are: loss,acc,val_loss,val_acc,lr\n",
      "377/377 [==============================] - 31s 83ms/step - loss: 1.2944 - acc: 0.6170 - val_loss: 1.0964 - val_acc: 0.6793 - lr: 0.0010\n",
      "Epoch 4/50\n",
      "377/377 [==============================] - ETA: 0s - loss: 1.0103 - acc: 0.7072WARNING:tensorflow:Early stopping conditioned on metric `val_accuracy` which is not available. Available metrics are: loss,acc,val_loss,val_acc\n",
      "WARNING:tensorflow:Learning rate reduction is conditioned on metric `val_accuracy` which is not available. Available metrics are: loss,acc,val_loss,val_acc,lr\n",
      "377/377 [==============================] - 33s 87ms/step - loss: 1.0103 - acc: 0.7072 - val_loss: 0.9169 - val_acc: 0.7450 - lr: 0.0010\n",
      "Epoch 5/50\n",
      "377/377 [==============================] - ETA: 0s - loss: 0.8086 - acc: 0.7662WARNING:tensorflow:Early stopping conditioned on metric `val_accuracy` which is not available. Available metrics are: loss,acc,val_loss,val_acc\n",
      "WARNING:tensorflow:Learning rate reduction is conditioned on metric `val_accuracy` which is not available. Available metrics are: loss,acc,val_loss,val_acc,lr\n",
      "377/377 [==============================] - 33s 88ms/step - loss: 0.8086 - acc: 0.7662 - val_loss: 0.7298 - val_acc: 0.7987 - lr: 0.0010\n",
      "Epoch 6/50\n",
      "377/377 [==============================] - ETA: 0s - loss: 0.6603 - acc: 0.8104WARNING:tensorflow:Early stopping conditioned on metric `val_accuracy` which is not available. Available metrics are: loss,acc,val_loss,val_acc\n",
      "WARNING:tensorflow:Learning rate reduction is conditioned on metric `val_accuracy` which is not available. Available metrics are: loss,acc,val_loss,val_acc,lr\n",
      "377/377 [==============================] - 33s 88ms/step - loss: 0.6603 - acc: 0.8104 - val_loss: 0.6212 - val_acc: 0.8307 - lr: 0.0010\n",
      "Epoch 7/50\n",
      "377/377 [==============================] - ETA: 0s - loss: 0.5533 - acc: 0.8432WARNING:tensorflow:Early stopping conditioned on metric `val_accuracy` which is not available. Available metrics are: loss,acc,val_loss,val_acc\n",
      "WARNING:tensorflow:Learning rate reduction is conditioned on metric `val_accuracy` which is not available. Available metrics are: loss,acc,val_loss,val_acc,lr\n",
      "377/377 [==============================] - 35s 92ms/step - loss: 0.5533 - acc: 0.8432 - val_loss: 0.6027 - val_acc: 0.8397 - lr: 0.0010\n",
      "Epoch 8/50\n",
      "377/377 [==============================] - ETA: 0s - loss: 0.4693 - acc: 0.8654WARNING:tensorflow:Early stopping conditioned on metric `val_accuracy` which is not available. Available metrics are: loss,acc,val_loss,val_acc\n",
      "WARNING:tensorflow:Learning rate reduction is conditioned on metric `val_accuracy` which is not available. Available metrics are: loss,acc,val_loss,val_acc,lr\n",
      "377/377 [==============================] - 34s 90ms/step - loss: 0.4693 - acc: 0.8654 - val_loss: 0.6139 - val_acc: 0.8449 - lr: 0.0010\n",
      "Epoch 9/50\n",
      "377/377 [==============================] - ETA: 0s - loss: 0.4005 - acc: 0.8844WARNING:tensorflow:Early stopping conditioned on metric `val_accuracy` which is not available. Available metrics are: loss,acc,val_loss,val_acc\n",
      "WARNING:tensorflow:Learning rate reduction is conditioned on metric `val_accuracy` which is not available. Available metrics are: loss,acc,val_loss,val_acc,lr\n",
      "377/377 [==============================] - 35s 93ms/step - loss: 0.4005 - acc: 0.8844 - val_loss: 0.5689 - val_acc: 0.8591 - lr: 0.0010\n",
      "Epoch 10/50\n",
      "377/377 [==============================] - ETA: 0s - loss: 0.3469 - acc: 0.8987WARNING:tensorflow:Early stopping conditioned on metric `val_accuracy` which is not available. Available metrics are: loss,acc,val_loss,val_acc\n",
      "WARNING:tensorflow:Learning rate reduction is conditioned on metric `val_accuracy` which is not available. Available metrics are: loss,acc,val_loss,val_acc,lr\n",
      "377/377 [==============================] - 34s 89ms/step - loss: 0.3469 - acc: 0.8987 - val_loss: 0.5311 - val_acc: 0.8710 - lr: 0.0010\n",
      "Epoch 11/50\n",
      "377/377 [==============================] - ETA: 0s - loss: 0.3013 - acc: 0.9111WARNING:tensorflow:Early stopping conditioned on metric `val_accuracy` which is not available. Available metrics are: loss,acc,val_loss,val_acc\n",
      "WARNING:tensorflow:Learning rate reduction is conditioned on metric `val_accuracy` which is not available. Available metrics are: loss,acc,val_loss,val_acc,lr\n",
      "377/377 [==============================] - 36s 95ms/step - loss: 0.3013 - acc: 0.9111 - val_loss: 0.5415 - val_acc: 0.8740 - lr: 0.0010\n",
      "Epoch 12/50\n",
      "377/377 [==============================] - ETA: 0s - loss: 0.2693 - acc: 0.9184WARNING:tensorflow:Early stopping conditioned on metric `val_accuracy` which is not available. Available metrics are: loss,acc,val_loss,val_acc\n",
      "WARNING:tensorflow:Learning rate reduction is conditioned on metric `val_accuracy` which is not available. Available metrics are: loss,acc,val_loss,val_acc,lr\n",
      "377/377 [==============================] - 38s 100ms/step - loss: 0.2693 - acc: 0.9184 - val_loss: 0.5517 - val_acc: 0.8702 - lr: 0.0010\n",
      "Epoch 13/50\n",
      "377/377 [==============================] - ETA: 0s - loss: 0.2408 - acc: 0.9264WARNING:tensorflow:Early stopping conditioned on metric `val_accuracy` which is not available. Available metrics are: loss,acc,val_loss,val_acc\n",
      "WARNING:tensorflow:Learning rate reduction is conditioned on metric `val_accuracy` which is not available. Available metrics are: loss,acc,val_loss,val_acc,lr\n",
      "377/377 [==============================] - 35s 94ms/step - loss: 0.2408 - acc: 0.9264 - val_loss: 0.5938 - val_acc: 0.8680 - lr: 0.0010\n",
      "Epoch 14/50\n",
      "377/377 [==============================] - ETA: 0s - loss: 0.2166 - acc: 0.9317WARNING:tensorflow:Early stopping conditioned on metric `val_accuracy` which is not available. Available metrics are: loss,acc,val_loss,val_acc\n",
      "WARNING:tensorflow:Learning rate reduction is conditioned on metric `val_accuracy` which is not available. Available metrics are: loss,acc,val_loss,val_acc,lr\n",
      "377/377 [==============================] - 35s 93ms/step - loss: 0.2166 - acc: 0.9317 - val_loss: 0.6466 - val_acc: 0.8538 - lr: 0.0010\n",
      "Epoch 15/50\n",
      "377/377 [==============================] - ETA: 0s - loss: 0.2018 - acc: 0.9386WARNING:tensorflow:Early stopping conditioned on metric `val_accuracy` which is not available. Available metrics are: loss,acc,val_loss,val_acc\n",
      "WARNING:tensorflow:Learning rate reduction is conditioned on metric `val_accuracy` which is not available. Available metrics are: loss,acc,val_loss,val_acc,lr\n",
      "377/377 [==============================] - 35s 94ms/step - loss: 0.2018 - acc: 0.9386 - val_loss: 0.7157 - val_acc: 0.8583 - lr: 0.0010\n",
      "Epoch 16/50\n",
      "377/377 [==============================] - ETA: 0s - loss: 0.1853 - acc: 0.9429WARNING:tensorflow:Early stopping conditioned on metric `val_accuracy` which is not available. Available metrics are: loss,acc,val_loss,val_acc\n",
      "WARNING:tensorflow:Learning rate reduction is conditioned on metric `val_accuracy` which is not available. Available metrics are: loss,acc,val_loss,val_acc,lr\n",
      "377/377 [==============================] - 36s 94ms/step - loss: 0.1853 - acc: 0.9429 - val_loss: 0.6824 - val_acc: 0.8591 - lr: 0.0010\n",
      "Epoch 17/50\n",
      "377/377 [==============================] - ETA: 0s - loss: 0.1791 - acc: 0.9459WARNING:tensorflow:Early stopping conditioned on metric `val_accuracy` which is not available. Available metrics are: loss,acc,val_loss,val_acc\n",
      "WARNING:tensorflow:Learning rate reduction is conditioned on metric `val_accuracy` which is not available. Available metrics are: loss,acc,val_loss,val_acc,lr\n",
      "377/377 [==============================] - 35s 93ms/step - loss: 0.1791 - acc: 0.9459 - val_loss: 0.5828 - val_acc: 0.8881 - lr: 0.0010\n",
      "Epoch 18/50\n",
      "377/377 [==============================] - ETA: 0s - loss: 0.1728 - acc: 0.9464WARNING:tensorflow:Early stopping conditioned on metric `val_accuracy` which is not available. Available metrics are: loss,acc,val_loss,val_acc\n",
      "WARNING:tensorflow:Learning rate reduction is conditioned on metric `val_accuracy` which is not available. Available metrics are: loss,acc,val_loss,val_acc,lr\n",
      "377/377 [==============================] - 34s 91ms/step - loss: 0.1728 - acc: 0.9464 - val_loss: 0.6515 - val_acc: 0.8740 - lr: 0.0010\n",
      "Epoch 19/50\n",
      "377/377 [==============================] - ETA: 0s - loss: 0.1609 - acc: 0.9504WARNING:tensorflow:Early stopping conditioned on metric `val_accuracy` which is not available. Available metrics are: loss,acc,val_loss,val_acc\n",
      "WARNING:tensorflow:Learning rate reduction is conditioned on metric `val_accuracy` which is not available. Available metrics are: loss,acc,val_loss,val_acc,lr\n",
      "377/377 [==============================] - 34s 91ms/step - loss: 0.1609 - acc: 0.9504 - val_loss: 0.6299 - val_acc: 0.8837 - lr: 0.0010\n",
      "Epoch 20/50\n",
      "377/377 [==============================] - ETA: 0s - loss: 0.1393 - acc: 0.9550WARNING:tensorflow:Early stopping conditioned on metric `val_accuracy` which is not available. Available metrics are: loss,acc,val_loss,val_acc\n",
      "WARNING:tensorflow:Learning rate reduction is conditioned on metric `val_accuracy` which is not available. Available metrics are: loss,acc,val_loss,val_acc,lr\n",
      "377/377 [==============================] - 34s 89ms/step - loss: 0.1393 - acc: 0.9550 - val_loss: 0.6032 - val_acc: 0.8814 - lr: 0.0010\n",
      "Epoch 21/50\n",
      "377/377 [==============================] - ETA: 0s - loss: 0.1420 - acc: 0.9556WARNING:tensorflow:Early stopping conditioned on metric `val_accuracy` which is not available. Available metrics are: loss,acc,val_loss,val_acc\n",
      "WARNING:tensorflow:Learning rate reduction is conditioned on metric `val_accuracy` which is not available. Available metrics are: loss,acc,val_loss,val_acc,lr\n",
      "377/377 [==============================] - 35s 93ms/step - loss: 0.1420 - acc: 0.9556 - val_loss: 0.7170 - val_acc: 0.8680 - lr: 0.0010\n",
      "Epoch 22/50\n",
      "377/377 [==============================] - ETA: 0s - loss: 0.1435 - acc: 0.9566WARNING:tensorflow:Early stopping conditioned on metric `val_accuracy` which is not available. Available metrics are: loss,acc,val_loss,val_acc\n",
      "WARNING:tensorflow:Learning rate reduction is conditioned on metric `val_accuracy` which is not available. Available metrics are: loss,acc,val_loss,val_acc,lr\n",
      "377/377 [==============================] - 34s 91ms/step - loss: 0.1435 - acc: 0.9566 - val_loss: 0.6138 - val_acc: 0.8822 - lr: 0.0010\n",
      "Epoch 23/50\n",
      "377/377 [==============================] - ETA: 0s - loss: 0.1302 - acc: 0.9602WARNING:tensorflow:Early stopping conditioned on metric `val_accuracy` which is not available. Available metrics are: loss,acc,val_loss,val_acc\n",
      "WARNING:tensorflow:Learning rate reduction is conditioned on metric `val_accuracy` which is not available. Available metrics are: loss,acc,val_loss,val_acc,lr\n",
      "377/377 [==============================] - 35s 92ms/step - loss: 0.1302 - acc: 0.9602 - val_loss: 0.7084 - val_acc: 0.8591 - lr: 0.0010\n",
      "Epoch 24/50\n",
      "377/377 [==============================] - ETA: 0s - loss: 0.1182 - acc: 0.9643WARNING:tensorflow:Early stopping conditioned on metric `val_accuracy` which is not available. Available metrics are: loss,acc,val_loss,val_acc\n",
      "WARNING:tensorflow:Learning rate reduction is conditioned on metric `val_accuracy` which is not available. Available metrics are: loss,acc,val_loss,val_acc,lr\n",
      "377/377 [==============================] - 36s 95ms/step - loss: 0.1182 - acc: 0.9643 - val_loss: 0.6689 - val_acc: 0.8762 - lr: 0.0010\n",
      "Epoch 25/50\n",
      "377/377 [==============================] - ETA: 0s - loss: 0.1228 - acc: 0.9628WARNING:tensorflow:Early stopping conditioned on metric `val_accuracy` which is not available. Available metrics are: loss,acc,val_loss,val_acc\n",
      "WARNING:tensorflow:Learning rate reduction is conditioned on metric `val_accuracy` which is not available. Available metrics are: loss,acc,val_loss,val_acc,lr\n",
      "377/377 [==============================] - 34s 89ms/step - loss: 0.1228 - acc: 0.9628 - val_loss: 0.6686 - val_acc: 0.8934 - lr: 0.0010\n",
      "Epoch 26/50\n",
      "377/377 [==============================] - ETA: 0s - loss: 0.1182 - acc: 0.9628WARNING:tensorflow:Early stopping conditioned on metric `val_accuracy` which is not available. Available metrics are: loss,acc,val_loss,val_acc\n",
      "WARNING:tensorflow:Learning rate reduction is conditioned on metric `val_accuracy` which is not available. Available metrics are: loss,acc,val_loss,val_acc,lr\n",
      "377/377 [==============================] - 36s 94ms/step - loss: 0.1182 - acc: 0.9628 - val_loss: 0.6624 - val_acc: 0.8822 - lr: 0.0010\n",
      "Epoch 27/50\n",
      "377/377 [==============================] - ETA: 0s - loss: 0.1216 - acc: 0.9625WARNING:tensorflow:Early stopping conditioned on metric `val_accuracy` which is not available. Available metrics are: loss,acc,val_loss,val_acc\n",
      "WARNING:tensorflow:Learning rate reduction is conditioned on metric `val_accuracy` which is not available. Available metrics are: loss,acc,val_loss,val_acc,lr\n",
      "377/377 [==============================] - 35s 93ms/step - loss: 0.1216 - acc: 0.9625 - val_loss: 0.6888 - val_acc: 0.8814 - lr: 0.0010\n",
      "Epoch 28/50\n",
      "377/377 [==============================] - ETA: 0s - loss: 0.1159 - acc: 0.9648WARNING:tensorflow:Early stopping conditioned on metric `val_accuracy` which is not available. Available metrics are: loss,acc,val_loss,val_acc\n",
      "WARNING:tensorflow:Learning rate reduction is conditioned on metric `val_accuracy` which is not available. Available metrics are: loss,acc,val_loss,val_acc,lr\n",
      "377/377 [==============================] - 37s 98ms/step - loss: 0.1159 - acc: 0.9648 - val_loss: 0.6834 - val_acc: 0.8837 - lr: 0.0010\n",
      "Epoch 29/50\n",
      "377/377 [==============================] - ETA: 0s - loss: 0.1182 - acc: 0.9650WARNING:tensorflow:Early stopping conditioned on metric `val_accuracy` which is not available. Available metrics are: loss,acc,val_loss,val_acc\n",
      "WARNING:tensorflow:Learning rate reduction is conditioned on metric `val_accuracy` which is not available. Available metrics are: loss,acc,val_loss,val_acc,lr\n",
      "377/377 [==============================] - 36s 94ms/step - loss: 0.1182 - acc: 0.9650 - val_loss: 0.6674 - val_acc: 0.8867 - lr: 0.0010\n",
      "Epoch 30/50\n",
      "377/377 [==============================] - ETA: 0s - loss: 0.1095 - acc: 0.9656WARNING:tensorflow:Early stopping conditioned on metric `val_accuracy` which is not available. Available metrics are: loss,acc,val_loss,val_acc\n",
      "WARNING:tensorflow:Learning rate reduction is conditioned on metric `val_accuracy` which is not available. Available metrics are: loss,acc,val_loss,val_acc,lr\n",
      "377/377 [==============================] - 34s 91ms/step - loss: 0.1095 - acc: 0.9656 - val_loss: 0.7383 - val_acc: 0.8814 - lr: 0.0010\n",
      "Epoch 31/50\n",
      "377/377 [==============================] - ETA: 0s - loss: 0.1138 - acc: 0.9649WARNING:tensorflow:Early stopping conditioned on metric `val_accuracy` which is not available. Available metrics are: loss,acc,val_loss,val_acc\n",
      "WARNING:tensorflow:Learning rate reduction is conditioned on metric `val_accuracy` which is not available. Available metrics are: loss,acc,val_loss,val_acc,lr\n",
      "377/377 [==============================] - 36s 95ms/step - loss: 0.1138 - acc: 0.9649 - val_loss: 0.5967 - val_acc: 0.8852 - lr: 0.0010\n",
      "Epoch 32/50\n",
      "377/377 [==============================] - ETA: 0s - loss: 0.1091 - acc: 0.9672WARNING:tensorflow:Early stopping conditioned on metric `val_accuracy` which is not available. Available metrics are: loss,acc,val_loss,val_acc\n",
      "WARNING:tensorflow:Learning rate reduction is conditioned on metric `val_accuracy` which is not available. Available metrics are: loss,acc,val_loss,val_acc,lr\n",
      "377/377 [==============================] - 35s 94ms/step - loss: 0.1091 - acc: 0.9672 - val_loss: 0.7815 - val_acc: 0.8777 - lr: 0.0010\n",
      "Epoch 33/50\n",
      "377/377 [==============================] - ETA: 0s - loss: 0.1008 - acc: 0.9700WARNING:tensorflow:Early stopping conditioned on metric `val_accuracy` which is not available. Available metrics are: loss,acc,val_loss,val_acc\n",
      "WARNING:tensorflow:Learning rate reduction is conditioned on metric `val_accuracy` which is not available. Available metrics are: loss,acc,val_loss,val_acc,lr\n",
      "377/377 [==============================] - 37s 97ms/step - loss: 0.1008 - acc: 0.9700 - val_loss: 0.7505 - val_acc: 0.8777 - lr: 0.0010\n",
      "Epoch 34/50\n",
      "377/377 [==============================] - ETA: 0s - loss: 0.1081 - acc: 0.9679WARNING:tensorflow:Early stopping conditioned on metric `val_accuracy` which is not available. Available metrics are: loss,acc,val_loss,val_acc\n",
      "WARNING:tensorflow:Learning rate reduction is conditioned on metric `val_accuracy` which is not available. Available metrics are: loss,acc,val_loss,val_acc,lr\n",
      "377/377 [==============================] - 36s 95ms/step - loss: 0.1081 - acc: 0.9679 - val_loss: 0.7611 - val_acc: 0.8784 - lr: 0.0010\n",
      "Epoch 35/50\n",
      "377/377 [==============================] - ETA: 0s - loss: 0.1128 - acc: 0.9680WARNING:tensorflow:Early stopping conditioned on metric `val_accuracy` which is not available. Available metrics are: loss,acc,val_loss,val_acc\n",
      "WARNING:tensorflow:Learning rate reduction is conditioned on metric `val_accuracy` which is not available. Available metrics are: loss,acc,val_loss,val_acc,lr\n",
      "377/377 [==============================] - 36s 95ms/step - loss: 0.1128 - acc: 0.9680 - val_loss: 0.7613 - val_acc: 0.8926 - lr: 0.0010\n",
      "Epoch 36/50\n",
      "377/377 [==============================] - ETA: 0s - loss: 0.0995 - acc: 0.9696WARNING:tensorflow:Early stopping conditioned on metric `val_accuracy` which is not available. Available metrics are: loss,acc,val_loss,val_acc\n",
      "WARNING:tensorflow:Learning rate reduction is conditioned on metric `val_accuracy` which is not available. Available metrics are: loss,acc,val_loss,val_acc,lr\n",
      "377/377 [==============================] - 35s 94ms/step - loss: 0.0995 - acc: 0.9696 - val_loss: 0.6992 - val_acc: 0.8889 - lr: 0.0010\n",
      "Epoch 37/50\n",
      "377/377 [==============================] - ETA: 0s - loss: 0.1028 - acc: 0.9690WARNING:tensorflow:Early stopping conditioned on metric `val_accuracy` which is not available. Available metrics are: loss,acc,val_loss,val_acc\n",
      "WARNING:tensorflow:Learning rate reduction is conditioned on metric `val_accuracy` which is not available. Available metrics are: loss,acc,val_loss,val_acc,lr\n",
      "377/377 [==============================] - 35s 92ms/step - loss: 0.1028 - acc: 0.9690 - val_loss: 0.7363 - val_acc: 0.8889 - lr: 0.0010\n",
      "Epoch 38/50\n",
      "377/377 [==============================] - ETA: 0s - loss: 0.1025 - acc: 0.9708WARNING:tensorflow:Early stopping conditioned on metric `val_accuracy` which is not available. Available metrics are: loss,acc,val_loss,val_acc\n",
      "WARNING:tensorflow:Learning rate reduction is conditioned on metric `val_accuracy` which is not available. Available metrics are: loss,acc,val_loss,val_acc,lr\n",
      "377/377 [==============================] - 36s 95ms/step - loss: 0.1025 - acc: 0.9708 - val_loss: 0.7050 - val_acc: 0.8941 - lr: 0.0010\n",
      "Epoch 39/50\n",
      "377/377 [==============================] - ETA: 0s - loss: 0.1016 - acc: 0.9698WARNING:tensorflow:Early stopping conditioned on metric `val_accuracy` which is not available. Available metrics are: loss,acc,val_loss,val_acc\n",
      "WARNING:tensorflow:Learning rate reduction is conditioned on metric `val_accuracy` which is not available. Available metrics are: loss,acc,val_loss,val_acc,lr\n",
      "377/377 [==============================] - 37s 99ms/step - loss: 0.1016 - acc: 0.9698 - val_loss: 0.7580 - val_acc: 0.8941 - lr: 0.0010\n",
      "Epoch 40/50\n",
      "377/377 [==============================] - ETA: 0s - loss: 0.0965 - acc: 0.9722WARNING:tensorflow:Early stopping conditioned on metric `val_accuracy` which is not available. Available metrics are: loss,acc,val_loss,val_acc\n",
      "WARNING:tensorflow:Learning rate reduction is conditioned on metric `val_accuracy` which is not available. Available metrics are: loss,acc,val_loss,val_acc,lr\n",
      "377/377 [==============================] - 37s 99ms/step - loss: 0.0965 - acc: 0.9722 - val_loss: 0.9038 - val_acc: 0.8673 - lr: 0.0010\n",
      "Epoch 41/50\n",
      "377/377 [==============================] - ETA: 0s - loss: 0.1006 - acc: 0.9702WARNING:tensorflow:Early stopping conditioned on metric `val_accuracy` which is not available. Available metrics are: loss,acc,val_loss,val_acc\n",
      "WARNING:tensorflow:Learning rate reduction is conditioned on metric `val_accuracy` which is not available. Available metrics are: loss,acc,val_loss,val_acc,lr\n",
      "377/377 [==============================] - 36s 95ms/step - loss: 0.1006 - acc: 0.9702 - val_loss: 0.7983 - val_acc: 0.8867 - lr: 0.0010\n",
      "Epoch 42/50\n",
      "377/377 [==============================] - ETA: 0s - loss: 0.0956 - acc: 0.9716WARNING:tensorflow:Early stopping conditioned on metric `val_accuracy` which is not available. Available metrics are: loss,acc,val_loss,val_acc\n",
      "WARNING:tensorflow:Learning rate reduction is conditioned on metric `val_accuracy` which is not available. Available metrics are: loss,acc,val_loss,val_acc,lr\n",
      "377/377 [==============================] - 36s 95ms/step - loss: 0.0956 - acc: 0.9716 - val_loss: 0.8269 - val_acc: 0.8807 - lr: 0.0010\n",
      "Epoch 43/50\n",
      "377/377 [==============================] - ETA: 0s - loss: 0.0957 - acc: 0.9711WARNING:tensorflow:Early stopping conditioned on metric `val_accuracy` which is not available. Available metrics are: loss,acc,val_loss,val_acc\n",
      "WARNING:tensorflow:Learning rate reduction is conditioned on metric `val_accuracy` which is not available. Available metrics are: loss,acc,val_loss,val_acc,lr\n",
      "377/377 [==============================] - 44s 117ms/step - loss: 0.0957 - acc: 0.9711 - val_loss: 0.7047 - val_acc: 0.8978 - lr: 0.0010\n",
      "Epoch 44/50\n",
      "377/377 [==============================] - ETA: 0s - loss: 0.0929 - acc: 0.9723WARNING:tensorflow:Early stopping conditioned on metric `val_accuracy` which is not available. Available metrics are: loss,acc,val_loss,val_acc\n",
      "WARNING:tensorflow:Learning rate reduction is conditioned on metric `val_accuracy` which is not available. Available metrics are: loss,acc,val_loss,val_acc,lr\n",
      "377/377 [==============================] - 43s 114ms/step - loss: 0.0929 - acc: 0.9723 - val_loss: 0.7496 - val_acc: 0.8926 - lr: 0.0010\n",
      "Epoch 45/50\n",
      "377/377 [==============================] - ETA: 0s - loss: 0.0973 - acc: 0.9715WARNING:tensorflow:Early stopping conditioned on metric `val_accuracy` which is not available. Available metrics are: loss,acc,val_loss,val_acc\n",
      "WARNING:tensorflow:Learning rate reduction is conditioned on metric `val_accuracy` which is not available. Available metrics are: loss,acc,val_loss,val_acc,lr\n",
      "377/377 [==============================] - 40s 106ms/step - loss: 0.0973 - acc: 0.9715 - val_loss: 0.8603 - val_acc: 0.8807 - lr: 0.0010\n",
      "Epoch 46/50\n",
      "377/377 [==============================] - ETA: 0s - loss: 0.0950 - acc: 0.9705WARNING:tensorflow:Early stopping conditioned on metric `val_accuracy` which is not available. Available metrics are: loss,acc,val_loss,val_acc\n",
      "WARNING:tensorflow:Learning rate reduction is conditioned on metric `val_accuracy` which is not available. Available metrics are: loss,acc,val_loss,val_acc,lr\n",
      "377/377 [==============================] - 40s 107ms/step - loss: 0.0950 - acc: 0.9705 - val_loss: 0.8665 - val_acc: 0.8792 - lr: 0.0010\n",
      "Epoch 47/50\n",
      "377/377 [==============================] - ETA: 0s - loss: 0.0951 - acc: 0.9719WARNING:tensorflow:Early stopping conditioned on metric `val_accuracy` which is not available. Available metrics are: loss,acc,val_loss,val_acc\n",
      "WARNING:tensorflow:Learning rate reduction is conditioned on metric `val_accuracy` which is not available. Available metrics are: loss,acc,val_loss,val_acc,lr\n",
      "377/377 [==============================] - 41s 108ms/step - loss: 0.0951 - acc: 0.9719 - val_loss: 0.7090 - val_acc: 0.8889 - lr: 0.0010\n",
      "Epoch 48/50\n",
      "377/377 [==============================] - ETA: 0s - loss: 0.0858 - acc: 0.9748WARNING:tensorflow:Early stopping conditioned on metric `val_accuracy` which is not available. Available metrics are: loss,acc,val_loss,val_acc\n",
      "WARNING:tensorflow:Learning rate reduction is conditioned on metric `val_accuracy` which is not available. Available metrics are: loss,acc,val_loss,val_acc,lr\n",
      "377/377 [==============================] - 37s 99ms/step - loss: 0.0858 - acc: 0.9748 - val_loss: 0.7304 - val_acc: 0.8859 - lr: 0.0010\n",
      "Epoch 49/50\n",
      "377/377 [==============================] - ETA: 0s - loss: 0.0856 - acc: 0.9742WARNING:tensorflow:Early stopping conditioned on metric `val_accuracy` which is not available. Available metrics are: loss,acc,val_loss,val_acc\n",
      "WARNING:tensorflow:Learning rate reduction is conditioned on metric `val_accuracy` which is not available. Available metrics are: loss,acc,val_loss,val_acc,lr\n",
      "377/377 [==============================] - 38s 100ms/step - loss: 0.0856 - acc: 0.9742 - val_loss: 0.8645 - val_acc: 0.8852 - lr: 0.0010\n",
      "Epoch 50/50\n",
      "377/377 [==============================] - ETA: 0s - loss: 0.0876 - acc: 0.9736WARNING:tensorflow:Early stopping conditioned on metric `val_accuracy` which is not available. Available metrics are: loss,acc,val_loss,val_acc\n",
      "WARNING:tensorflow:Learning rate reduction is conditioned on metric `val_accuracy` which is not available. Available metrics are: loss,acc,val_loss,val_acc,lr\n",
      "377/377 [==============================] - 37s 99ms/step - loss: 0.0876 - acc: 0.9736 - val_loss: 0.8263 - val_acc: 0.8896 - lr: 0.0010\n"
     ]
    }
   ],
   "source": [
    "epochs = 50\n",
    "early_stopping_patience = 5\n",
    "reduce_lr_patience=5\n",
    "\n",
    "# Add early stopping\n",
    "early_stopping = keras.callbacks.EarlyStopping(\n",
    "    monitor=\"val_accuracy\", patience=early_stopping_patience, restore_best_weights=True\n",
    ")\n",
    "reduce_lr = keras.callbacks.ReduceLROnPlateau(monitor='val_accuracy', factor=0.1, patience=reduce_lr_patience)\n",
    "\n",
    "# Train the model\n",
    "history = model_2.fit(\n",
    "    train_dataset,\n",
    "    validation_data=validation_dataset,\n",
    "    epochs=epochs,\n",
    "    callbacks=[early_stopping, reduce_lr],\n",
    ")"
   ]
  },
  {
   "cell_type": "code",
   "execution_count": 15,
   "id": "fce065a3",
   "metadata": {},
   "outputs": [
    {
     "name": "stdout",
     "output_type": "stream",
     "text": [
      "42/42 [==============================] - 1s 27ms/step - loss: 0.8263 - acc: 0.8896\n"
     ]
    },
    {
     "data": {
      "text/plain": [
       "[0.8263319134712219, 0.8896346092224121]"
      ]
     },
     "execution_count": 15,
     "metadata": {},
     "output_type": "execute_result"
    }
   ],
   "source": [
    "model_2.evaluate(validation_dataset)"
   ]
  },
  {
   "cell_type": "code",
   "execution_count": 16,
   "id": "d7fa1bf9",
   "metadata": {},
   "outputs": [
    {
     "data": {
      "text/plain": [
       "Text(0, 0.5, 'Accuracy [%]')"
      ]
     },
     "execution_count": 16,
     "metadata": {},
     "output_type": "execute_result"
    },
    {
     "data": {
      "image/png": "[encoded data removed]",
      "text/plain": [
       "<Figure size 1600x600 with 2 Axes>"
      ]
     },
     "metadata": {},
     "output_type": "display_data"
    }
   ],
   "source": [
    "metrics = history.history\n",
    "plt.figure(figsize=(16,6))\n",
    "plt.subplot(1,2,1)\n",
    "plt.plot(history.epoch, metrics['loss'], metrics['val_loss'])\n",
    "plt.legend(['loss', 'val_loss'])\n",
    "plt.ylim([0, max(plt.ylim())])\n",
    "plt.xlabel('Epoch')\n",
    "plt.ylabel('Loss [CrossEntropy]')\n",
    "\n",
    "plt.subplot(1,2,2)\n",
    "plt.plot(history.epoch, 100*np.array(metrics['acc']), 100*np.array(metrics['val_acc']))\n",
    "plt.legend(['acc', 'val_acc'])\n",
    "plt.ylim([0, 100])\n",
    "plt.xlabel('Epoch')\n",
    "plt.ylabel('Accuracy [%]')\n"
   ]
  },
  {
   "cell_type": "code",
   "execution_count": null,
   "id": "59f3c020",
   "metadata": {},
   "outputs": [],
   "source": []
  },
  {
   "cell_type": "code",
   "execution_count": 19,
   "id": "45a84d56",
   "metadata": {},
   "outputs": [
    {
     "name": "stdout",
     "output_type": "stream",
     "text": [
      "1/1 [==============================] - 0s 27ms/step\n",
      "Predicted class: 10\n"
     ]
    }
   ],
   "source": [
    "import numpy as np\n",
    "\n",
    "# Load the image you want to predict\n",
    "#image_path = 'table_cells/table_cells_class02/26/rwaw6wDrQi.jpg'\n",
    "image_path = 'c2.jpg'\n",
    "image = cv2.imread(image_path)\n",
    "\n",
    "# Preprocess the image to match the model's input size\n",
    "image = cv2.resize(image, image_size)\n",
    "image = image.astype('float32')\n",
    "image /= 255\n",
    "image = tf.transpose(image, perm=[1, 0, 2])\n",
    "# Expand the dimensions to match the model's input shape\n",
    "image = np.expand_dims(image, axis=0)\n",
    "\n",
    "# Use the model to predict the class probabilities\n",
    "predictions = model_2.predict(image)\n",
    "\n",
    "# Get the predicted class label\n",
    "predicted_class = np.argmax(predictions, axis=1)[0]\n",
    "\n",
    "# Print the predicted class label\n",
    "print(\"Predicted class:\", predicted_class)\n"
   ]
  },
  {
   "cell_type": "code",
   "execution_count": 20,
   "id": "f362cb41",
   "metadata": {},
   "outputs": [
    {
     "name": "stderr",
     "output_type": "stream",
     "text": [
      "C:\\Users\\farassoo\\anaconda3\\Lib\\site-packages\\keras\\src\\engine\\training.py:3103: UserWarning: You are saving your model as an HDF5 file via `model.save()`. This file format is considered legacy. We recommend using instead the native Keras format, e.g. `model.save('my_model.keras')`.\n",
      "  saving_api.save_model(\n"
     ]
    },
    {
     "name": "stdout",
     "output_type": "stream",
     "text": [
      "Model saved to 'my_model_project.h5'\n"
     ]
    }
   ],
   "source": [
    "\n",
    "# Save the model\n",
    "model_2.save('my_model_project.h5')\n",
    "print(\"Model saved to 'my_model_project.h5'\")"
   ]
  },
  {
   "cell_type": "code",
   "execution_count": 21,
   "id": "6cedf1d1",
   "metadata": {},
   "outputs": [],
   "source": [
    "loaded_model = tf.keras.models.load_model('my_model_project.h5')\n"
   ]
  },
  {
   "cell_type": "code",
   "execution_count": 22,
   "id": "00acd985",
   "metadata": {},
   "outputs": [
    {
     "name": "stdout",
     "output_type": "stream",
     "text": [
      "1/1 [==============================] - 1s 819ms/step\n",
      "Predicted class: mashhad\n"
     ]
    }
   ],
   "source": [
    "loaded_model = tf.keras.models.load_model('my_model_project.h5')\n",
    "import numpy as np\n",
    "import cv2\n",
    "# Load the image you want to predict\n",
    "image_path = 'C:/Users/farassoo/c2.jpg'\n",
    "image_size = (100,50)\n",
    "image = cv2.imread(image_path)\n",
    "\n",
    "# Preprocess the image to match the model's input size\n",
    "image = cv2.resize(image, image_size)\n",
    "image = image.astype('float32')\n",
    "image /= 255\n",
    "image = tf.transpose(image, perm=[1, 0, 2])\n",
    "# Expand the dimensions to match the model's input shape\n",
    "image = np.expand_dims(image, axis=0)\n",
    "\n",
    "# Use the model to predict the class probabilities\n",
    "predictions =loaded_model.predict(image)\n",
    "\n",
    "# Get the predicted class label\n",
    "predicted_class = np.argmax(predictions, axis=1)[0]\n",
    "\n",
    "# Define a mapping between class labels and their names\n",
    "class_names = ['rasht', 'shiraz', 'shahrkord', 'tabriz', 'khoram-abad', 'qazvin', 'birjand',\n",
    "              'orumie', 'sari', 'qom', 'mashhad', 'ardebil', 'arak', 'sanandaj',\n",
    "              'bojnoord', 'esfahan', 'bandar-abbas', 'kerman', 'ahvaz', 'karaj',\n",
    "              'hamedan', 'kermanshah ', 'zanjan', 'ilam', 'yazd', 'yasooj',\n",
    "              'semnan', 'booshehr', 'gorgan', 'zahedan', 'tehran']\n",
    "\n",
    "# Print the predicted class name\n",
    "print(\"Predicted class:\", class_names[predicted_class])\n"
   ]
  },
  {
   "cell_type": "code",
   "execution_count": null,
   "id": "fbea60ae",
   "metadata": {},
   "outputs": [],
   "source": []
  }
 ],
 "metadata": {
  "kernelspec": {
   "display_name": "Python 3 (ipykernel)",
   "language": "python",
   "name": "python3"
  },
  "language_info": {
   "codemirror_mode": {
    "name": "ipython",
    "version": 3
   },
   "file_extension": ".py",
   "mimetype": "text/x-python",
   "name": "python",
   "nbconvert_exporter": "python",
   "pygments_lexer": "ipython3",
   "version": "3.11.5"
  }
 },
 "nbformat": 4,
 "nbformat_minor": 5
}
